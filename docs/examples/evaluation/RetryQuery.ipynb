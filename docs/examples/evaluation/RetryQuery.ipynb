{
 "cells": [
  {
   "attachments": {},
   "cell_type": "markdown",
   "metadata": {},
   "source": [
    "# Retry Query Engine"
   ]
  },
  {
   "cell_type": "code",
   "execution_count": 1,
   "metadata": {},
   "outputs": [],
   "source": [
    "# My OpenAI Key\n",
    "import os\n",
    "os.environ['OPENAI_API_KEY'] = \"INSERT OPENAI KEY\"\n",
    "\n",
    "# import logging\n",
    "# import sys\n",
    "\n",
    "# logging.basicConfig(stream=sys.stdout, level=logging.DEBUG)\n",
    "# logging.getLogger().addHandler(logging.StreamHandler(stream=sys.stdout))"
   ]
  },
  {
   "cell_type": "code",
   "execution_count": 2,
   "metadata": {},
   "outputs": [
    {
     "name": "stderr",
     "output_type": "stream",
     "text": [
      "/Users/hongyishi/Documents/GitHub/gpt_index/.venv/lib/python3.9/site-packages/tqdm/auto.py:21: TqdmWarning: IProgress not found. Please update jupyter and ipywidgets. See https://ipywidgets.readthedocs.io/en/stable/user_install.html\n",
      "  from .autonotebook import tqdm as notebook_tqdm\n"
     ]
    },
    {
     "name": "stdout",
     "output_type": "stream",
     "text": [
      "Default query engine response: \n",
      "It is not possible to answer this question with the given context information.\n",
      "Query engine with retry guideline response: \n",
      "According to Uber's 2021 ESG Report, there are over 3 million Uber drivers worldwide.\n"
     ]
    }
   ],
   "source": [
    "from llama_index.indices.vector_store.base import GPTVectorStoreIndex\n",
    "from llama_index.query_engine.retriever_query_engine import RetrieverQueryEngine\n",
    "from llama_index.query_engine.retry_query_engine import RetryQueryEngine, RetryGuidelineQueryEngine\n",
    "from llama_index.query_engine.retry_source_query_engine import RetrySourceQueryEngine\n",
    "from llama_index.readers.file.base import SimpleDirectoryReader\n",
    "from llama_index.evaluation.base import QueryResponseEvaluator\n",
    "from llama_index.evaluation.guideline_eval import GuidelineEvaluator\n",
    "from llama_index.response.schema import Response\n",
    "from typing import cast\n",
    "\n",
    "\n",
    "uber_docs = SimpleDirectoryReader(input_files=[\"../data/10k/uber_2021.pdf\"]).load_data()\n",
    "index = GPTVectorStoreIndex.from_documents(uber_docs)\n",
    "query = \"How many drivers does Uber have?\"\n",
    "\n",
    "# Default query engine\n",
    "default_query_engine = index.as_query_engine()\n",
    "response = default_query_engine.query(query)\n",
    "print(f\"Default query engine response: {response}\")\n",
    "\n",
    "# Query engine with retry\n",
    "# evaluator = QueryResponseEvaluator()\n",
    "# retry_query_engine = RetryQueryEngine(default_query_engine, evaluator)\n",
    "# retry_response = retry_query_engine.query(query)\n",
    "# print(f\"Query engine with retry response: {retry_response}\")\n",
    "\n",
    "# retry_source_query_engine = RetrySourceQueryEngine(default_query_engine, evaluator)\n",
    "# retry_source_response = retry_source_query_engine.query(query)\n",
    "# print(f\"Query engine with retry source response: {retry_source_response}\")\n",
    "\n",
    "# Guideline eval\n",
    "guideline_eval = GuidelineEvaluator()\n",
    "# typed_response = response if isinstance(response, Response) else response.get_response()\n",
    "# eval = guideline_eval.evaluate_response(query, typed_response)\n",
    "# print(eval)\n",
    "retry_guideline_query_engine = RetryGuidelineQueryEngine(default_query_engine, guideline_eval, resynthesize_query=True)\n",
    "retry_guideline_response = retry_guideline_query_engine.query(query)\n",
    "print(f\"Query engine with retry guideline response: {retry_guideline_response}\")"
   ]
  }
 ],
 "metadata": {
  "kernelspec": {
   "display_name": ".venv",
   "language": "python",
   "name": "python3"
  },
  "language_info": {
   "codemirror_mode": {
    "name": "ipython",
    "version": 3
   },
   "file_extension": ".py",
   "mimetype": "text/x-python",
   "name": "python",
   "nbconvert_exporter": "python",
   "pygments_lexer": "ipython3",
   "version": "3.9.6"
  },
  "orig_nbformat": 4
 },
 "nbformat": 4,
 "nbformat_minor": 2
}
